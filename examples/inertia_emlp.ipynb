{
 "cells": [
  {
   "cell_type": "code",
   "execution_count": 1,
   "id": "6a7a7254-85b2-4c46-99f8-dca0ed8b063e",
   "metadata": {
    "tags": []
   },
   "outputs": [],
   "source": [
    "import sys\n",
    "\n",
    "sys.path.append(\"../\")\n",
    "\n",
    "import torch\n",
    "\n",
    "from torchemlp.groups import SO, O, S, Z\n",
    "from torchemlp.nn.equivariant import EMLP\n",
    "from torchemlp.datasets import Inertia"
   ]
  },
  {
   "cell_type": "code",
   "execution_count": 2,
   "id": "6103b058-ec1b-41d8-8e93-f762140b8807",
   "metadata": {
    "tags": []
   },
   "outputs": [
    {
     "data": {
      "text/plain": [
       "'Input type: 5V⁰+5V, output type: V²'"
      ]
     },
     "execution_count": 2,
     "metadata": {},
     "output_type": "execute_result"
    }
   ],
   "source": [
    "trainset = Inertia(1000)  # Initialize dataset with 1000 examples\n",
    "testset = Inertia(2000)\n",
    "\n",
    "G = SO(3)\n",
    "\n",
    "f\"Input type: {trainset.repin(G)}, output type: {trainset.repout(G)}\""
   ]
  },
  {
   "cell_type": "code",
   "execution_count": null,
   "id": "60d68e9f-5cf2-4342-bd49-a4faeae07587",
   "metadata": {
    "tags": []
   },
   "outputs": [],
   "source": [
    "model = EMLP(trainset.repin, trainset.repout, G, 384, 3)"
   ]
  },
  {
   "cell_type": "code",
   "execution_count": null,
   "id": "bce0d107-d9f7-418b-b318-95387c6fbb02",
   "metadata": {},
   "outputs": [],
   "source": []
  }
 ],
 "metadata": {
  "kernelspec": {
   "display_name": "Python 3 (ipykernel)",
   "language": "python",
   "name": "python3"
  },
  "language_info": {
   "codemirror_mode": {
    "name": "ipython",
    "version": 3
   },
   "file_extension": ".py",
   "mimetype": "text/x-python",
   "name": "python",
   "nbconvert_exporter": "python",
   "pygments_lexer": "ipython3",
   "version": "3.10.9"
  }
 },
 "nbformat": 4,
 "nbformat_minor": 5
}
