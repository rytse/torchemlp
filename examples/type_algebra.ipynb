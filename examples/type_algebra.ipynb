{
 "cells": [
  {
   "cell_type": "code",
   "execution_count": 1,
   "id": "3c7eb22f-3e11-4661-9bbd-71da1c6deb35",
   "metadata": {
    "tags": []
   },
   "outputs": [],
   "source": [
    "import sys\n",
    "\n",
    "sys.path.append(\"../\")\n",
    "\n",
    "from torchemlp.reps import V\n",
    "from torchemlp.groups import SO, O, SO13"
   ]
  },
  {
   "cell_type": "code",
   "execution_count": 2,
   "id": "280ee5e5-26eb-43e5-a3f3-acbdbe6f49f2",
   "metadata": {
    "tags": []
   },
   "outputs": [
    {
     "data": {
      "text/plain": [
       "((V+V), V⊗V, V*)"
      ]
     },
     "execution_count": 2,
     "metadata": {},
     "output_type": "execute_result"
    }
   ],
   "source": [
    "V + V, V * V, V.T"
   ]
  },
  {
   "cell_type": "code",
   "execution_count": 3,
   "id": "1613a722-09b5-4db0-abd3-7e81edb7159c",
   "metadata": {
    "tags": []
   },
   "outputs": [
    {
     "data": {
      "text/plain": [
       "(V+V*)⊗(V*⊗V+V*)"
      ]
     },
     "execution_count": 3,
     "metadata": {},
     "output_type": "execute_result"
    }
   ],
   "source": [
    "(V + V.T) * (V * V.T + V).T"
   ]
  },
  {
   "cell_type": "code",
   "execution_count": 4,
   "id": "08d1b70c-64cf-4fbc-b287-f4b6dd8f85ff",
   "metadata": {
    "tags": []
   },
   "outputs": [
    {
     "data": {
      "text/plain": [
       "(V+V+V+V+V+V+V+V+V+V)"
      ]
     },
     "execution_count": 4,
     "metadata": {},
     "output_type": "execute_result"
    }
   ],
   "source": [
    "5 * V * 2"
   ]
  },
  {
   "cell_type": "code",
   "execution_count": 5,
   "id": "9bb033fc-3366-4f61-988c-2270264c4645",
   "metadata": {
    "tags": []
   },
   "outputs": [
    {
     "data": {
      "text/plain": [
       "(V⊗V⊗V+V⊗V⊗V)"
      ]
     },
     "execution_count": 5,
     "metadata": {},
     "output_type": "execute_result"
    }
   ],
   "source": [
    "2 * (V**3)"
   ]
  },
  {
   "cell_type": "code",
   "execution_count": 6,
   "id": "88eafe6e-c39e-4a4c-a64b-f932dc3117d6",
   "metadata": {
    "tags": []
   },
   "outputs": [
    {
     "data": {
      "text/plain": [
       "(2V³, 2V³)"
      ]
     },
     "execution_count": 6,
     "metadata": {},
     "output_type": "execute_result"
    }
   ],
   "source": [
    "2 * V(O(4)) ** 3, (2 * V**3)(O(4))"
   ]
  },
  {
   "cell_type": "code",
   "execution_count": 7,
   "id": "936d9591-42a5-44b8-afc6-712baf029da7",
   "metadata": {
    "tags": []
   },
   "outputs": [
    {
     "data": {
      "text/plain": [
       "(2V, V+V*)"
      ]
     },
     "execution_count": 7,
     "metadata": {},
     "output_type": "execute_result"
    }
   ],
   "source": [
    "V(SO(3)).T + V(SO(3)), V(SO13()).T + V(SO13())"
   ]
  },
  {
   "cell_type": "code",
   "execution_count": null,
   "id": "d562736d",
   "metadata": {},
   "outputs": [],
   "source": []
  }
 ],
 "metadata": {
  "kernelspec": {
   "display_name": "Python 3 (ipykernel)",
   "language": "python",
   "name": "python3"
  },
  "language_info": {
   "codemirror_mode": {
    "name": "ipython",
    "version": 3
   },
   "file_extension": ".py",
   "mimetype": "text/x-python",
   "name": "python",
   "nbconvert_exporter": "python",
   "pygments_lexer": "ipython3",
   "version": "3.10.12"
  }
 },
 "nbformat": 4,
 "nbformat_minor": 5
}
