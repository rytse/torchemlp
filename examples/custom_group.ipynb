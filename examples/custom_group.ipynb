{
 "cells": [
  {
   "cell_type": "code",
   "execution_count": 1,
   "id": "1770451a-3684-41c3-b06e-8f2ac3f37e78",
   "metadata": {
    "tags": []
   },
   "outputs": [],
   "source": [
    "import sys\n",
    "\n",
    "sys.path.append(\"../\")\n",
    "\n",
    "import torch\n",
    "\n",
    "from torchemlp.groups import Group, S, rel_err\n",
    "from torchemlp.ops import LinearOperator, MatrixLinearOperator\n",
    "from torchemlp.reps import V, T\n",
    "from torchemlp.utils import vis, vis_basis  # , rel_err"
   ]
  },
  {
   "cell_type": "code",
   "execution_count": 2,
   "id": "465f9795-9579-44b1-bd1c-8cf97957dd53",
   "metadata": {
    "tags": []
   },
   "outputs": [],
   "source": [
    "class Alt(Group):\n",
    "    \"\"\"The alternating group in n dimensions\"\"\"\n",
    "\n",
    "    def __init__(self, n):\n",
    "        assert n > 2\n",
    "\n",
    "        h_dense = torch.zeros((n - 2, n, n)) + torch.eye(\n",
    "            n\n",
    "        )  # init an array of n-2 identity matrices\n",
    "        for i in range(n - 2):\n",
    "            ids = torch.tensor([0, 1, i + 2])\n",
    "            permed_ids = torch.roll(ids, 1)  # cyclic permutation (0,1,i+2)->(i+2,0,1)\n",
    "            h_dense[i, ids] = h_dense[i, permed_ids]\n",
    "\n",
    "        self.discrete_generators = [MatrixLinearOperator(h) for h in h_dense]\n",
    "\n",
    "        super().__init__(n)"
   ]
  },
  {
   "cell_type": "code",
   "execution_count": 3,
   "id": "3779e139-70f3-4d52-a479-450f568f28fc",
   "metadata": {
    "tags": []
   },
   "outputs": [
    {
     "name": "stdout",
     "output_type": "stream",
     "text": [
      "T5 basis for Alt(5) of shape  torch.Size([3125, 63])\n"
     ]
    },
    {
     "name": "stderr",
     "output_type": "stream",
     "text": [
      "Krylov Solving for Equivariant Subspace r<=10: 100%|██████████████████████████████████████████████████████████████████████████████████████████████████████████████████████████████| 100/100 [00:00<00:00, 103.79it/s]\n",
      "Krylov Solving for Equivariant Subspace r<=20: 100%|███████████████████████████████████████████████████████████████████████████████████████████████████████████████████████████████| 100/100 [00:01<00:00, 65.92it/s]\n",
      "Krylov Solving for Equivariant Subspace r<=40: 100%|███████████████████████████████████████████████████████████████████████████████████████████████████████████████████████████████| 100/100 [00:02<00:00, 44.42it/s]\n",
      "Krylov Solving for Equivariant Subspace r<=80: 100%|███████████████████████████████████████████████████████████████████████████████████████████████████████████████████████████████| 100/100 [00:04<00:00, 24.31it/s]"
     ]
    },
    {
     "name": "stdout",
     "output_type": "stream",
     "text": [
      "T5 basis for S(5) of shape  torch.Size([3125, 52])\n"
     ]
    },
    {
     "name": "stderr",
     "output_type": "stream",
     "text": [
      "\n"
     ]
    }
   ],
   "source": [
    "print(\"T5 basis for Alt(5) of shape \", T(5)(Alt(5)).equivariant_basis().shape)\n",
    "print(\"T5 basis for S(5) of shape \", T(5)(S(5)).equivariant_basis().shape)"
   ]
  },
  {
   "cell_type": "code",
   "execution_count": 4,
   "id": "c6351384-3c8e-4034-9fa5-b4609cf5d270",
   "metadata": {
    "tags": []
   },
   "outputs": [
    {
     "data": {
      "text/plain": [
       "'Equivariance Error:  6.65e-07'"
      ]
     },
     "execution_count": 4,
     "metadata": {},
     "output_type": "execute_result"
    }
   ],
   "source": [
    "G = Alt(5)\n",
    "rep = T(5)(G)\n",
    "\n",
    "Q = rep.equivariant_basis()\n",
    "gQ = rep.rho(G.sample()) @ Q\n",
    "\n",
    "f\"Equivariance Error: {rel_err(Q.dense, gQ.dense): .2e}\""
   ]
  },
  {
   "cell_type": "code",
   "execution_count": 5,
   "id": "4da6e086-7350-480c-a47c-89f3fac18ae3",
   "metadata": {},
   "outputs": [],
   "source": [
    "class SO(Group):  #\n",
    "    def __init__(self, n):\n",
    "        \"\"\"The special orthogonal group SO(n) in n dimensions\"\"\"\n",
    "        A_dense = torch.zeros(((n * (n - 1)) // 2, n, n))\n",
    "        k = 0\n",
    "        for i in range(n):\n",
    "            for j in range(i):\n",
    "                A_dense[k, i, j] = 1\n",
    "                A_dense[k, j, i] = -1\n",
    "                k += 1\n",
    "\n",
    "        self.lie_algebra = [MatrixLinearOperator(A) for A in A_dense]\n",
    "\n",
    "        super().__init__(n)"
   ]
  },
  {
   "cell_type": "code",
   "execution_count": 6,
   "id": "47516ba1-a479-403d-9e1e-fcb9766fc132",
   "metadata": {
    "tags": []
   },
   "outputs": [
    {
     "data": {
      "image/png": "[encoded data removed]",
      "text/plain": [
       "<Figure size 640x480 with 1 Axes>"
      ]
     },
     "metadata": {},
     "output_type": "display_data"
    }
   ],
   "source": [
    "vis(V(SO(3)) ** 3, V(SO(3)) ** 2, cluster=False)"
   ]
  },
  {
   "cell_type": "code",
   "execution_count": 7,
   "id": "c58bb5d8-dc76-4949-9fea-13eb649769e4",
   "metadata": {
    "tags": []
   },
   "outputs": [],
   "source": [
    "class O(SO):  #\n",
    "    def __init__(self, n):\n",
    "        \"\"\"The Orthogonal group O(n) in n dimensions\"\"\"\n",
    "        h_dense = torch.eye(n)[None]\n",
    "        h_dense[0, 0, 0] = -1\n",
    "\n",
    "        self.discrete_generators = [MatrixLinearOperator(h) for h in h_dense]\n",
    "\n",
    "        super().__init__(n)"
   ]
  },
  {
   "cell_type": "code",
   "execution_count": 8,
   "id": "3931bd2f-4ed1-4703-b679-7380e3302e98",
   "metadata": {
    "tags": []
   },
   "outputs": [
    {
     "data": {
      "image/png": "[encoded data removed]",
      "text/plain": [
       "<Figure size 640x480 with 1 Axes>"
      ]
     },
     "metadata": {},
     "output_type": "display_data"
    }
   ],
   "source": [
    "vis(\n",
    "    V(O(3)) ** 3, V(O(3)) ** 2, cluster=False\n",
    ");  # Unlike SO(n), O(n) has no solutions for odd parity V^3->V^2 = T5 = odd"
   ]
  },
  {
   "cell_type": "code",
   "execution_count": 9,
   "id": "060f10a3-9b06-4def-b9c9-b1a70806607c",
   "metadata": {
    "tags": []
   },
   "outputs": [],
   "source": [
    "class LazyPerm(LinearOperator):\n",
    "    def __init__(self, perm):\n",
    "        self.perm = perm\n",
    "        self.shape = (len(perm), len(perm))\n",
    "        self.dtype = int\n",
    "\n",
    "    def matmat(self, V):\n",
    "        return V[self.perm]\n",
    "\n",
    "    def matvec(self, V):\n",
    "        return V[self.perm]\n",
    "\n",
    "    def adjoint(self):\n",
    "        return LazyPerm(np.argsort(self.perm))"
   ]
  },
  {
   "cell_type": "code",
   "execution_count": 10,
   "id": "718ed3fe-5bb0-4b3c-aee7-00a8370b2527",
   "metadata": {
    "tags": []
   },
   "outputs": [],
   "source": [
    "class AltFast(Group):\n",
    "    \"\"\"The alternating group in n dimensions\"\"\"\n",
    "\n",
    "    def __init__(self, n):\n",
    "        assert n > 2\n",
    "        perms = torch.zeros((n - 2, n)).int() + torch.arange(n)[None]\n",
    "        for i in range(n - 2):\n",
    "            ids = torch.tensor([0, 1, i + 2])\n",
    "            permed_ids = torch.roll(ids, 1)  # cyclic permutation (0,1,i+2)->(i+2,0,1)\n",
    "            perms[i, ids] = perms[i, permed_ids]\n",
    "        self.discrete_generators = [LazyPerm(perm) for perm in perms]\n",
    "        super().__init__(n)"
   ]
  },
  {
   "cell_type": "code",
   "execution_count": 11,
   "id": "fa20575a-fdfa-4e54-a787-4becbbae0af1",
   "metadata": {
    "tags": []
   },
   "outputs": [
    {
     "name": "stderr",
     "output_type": "stream",
     "text": [
      "Krylov Solving for Equivariant Subspace r<=10: 100%|███████████████████████████████████████████████████████████████████████████████████████████████████████████████████████████████| 100/100 [00:30<00:00,  3.28it/s]"
     ]
    },
    {
     "name": "stdout",
     "output_type": "stream",
     "text": [
      "30.6 s ± 0 ns per loop (mean ± std. dev. of 1 run, 1 loop each)\n"
     ]
    },
    {
     "name": "stderr",
     "output_type": "stream",
     "text": [
      "\n"
     ]
    }
   ],
   "source": [
    "%timeit -n1 -r1 T(2)(Alt(100)).equivariant_basis()"
   ]
  },
  {
   "cell_type": "code",
   "execution_count": 12,
   "id": "1b73556d-ca9a-4ee5-9945-3b876f6feb3e",
   "metadata": {
    "tags": []
   },
   "outputs": [
    {
     "name": "stderr",
     "output_type": "stream",
     "text": [
      "Krylov Solving for Equivariant Subspace r<=10: 100%|███████████████████████████████████████████████████████████████████████████████████████████████████████████████████████████████| 100/100 [00:38<00:00,  2.62it/s]"
     ]
    },
    {
     "name": "stdout",
     "output_type": "stream",
     "text": [
      "38.3 s ± 0 ns per loop (mean ± std. dev. of 1 run, 1 loop each)\n"
     ]
    },
    {
     "name": "stderr",
     "output_type": "stream",
     "text": [
      "\n"
     ]
    }
   ],
   "source": [
    "%timeit -n1 -r1 T(2)(AltFast(100)).equivariant_basis()"
   ]
  },
  {
   "cell_type": "code",
   "execution_count": null,
   "id": "537fa522-9bb0-4170-8721-008d8582e489",
   "metadata": {},
   "outputs": [],
   "source": []
  }
 ],
 "metadata": {
  "kernelspec": {
   "display_name": "Python 3 (ipykernel)",
   "language": "python",
   "name": "python3"
  },
  "language_info": {
   "codemirror_mode": {
    "name": "ipython",
    "version": 3
   },
   "file_extension": ".py",
   "mimetype": "text/x-python",
   "name": "python",
   "nbconvert_exporter": "python",
   "pygments_lexer": "ipython3",
   "version": "3.10.9"
  }
 },
 "nbformat": 4,
 "nbformat_minor": 5
}
